{
 "cells": [
  {
   "cell_type": "code",
   "execution_count": 1,
   "id": "0ce6a27b",
   "metadata": {},
   "outputs": [],
   "source": [
    "from numpy import *\n",
    "import matplotlib.pyplot as plt"
   ]
  },
  {
   "cell_type": "code",
   "execution_count": 2,
   "id": "8d67b1e0",
   "metadata": {},
   "outputs": [],
   "source": [
    "def loadDataSet(fileName, delim = '\\t'):\n",
    "    \"\"\"\n",
    "       函数说明：加载数据集\n",
    "       parameters:\n",
    "           fileName -数据集名称\n",
    "           delim -分隔符\n",
    "       return:\n",
    "       mat(datArr) -数据矩阵\n",
    "    \"\"\"   \n",
    "    fr = open(fileName)\n",
    "    stringArr = [line.strip().split(delim) for line in fr.readlines()]\n",
    "    datArr = [list(map(float,line)) for line in stringArr] \n",
    "    return mat(datArr)  # 转换为二维的数组便于运算"
   ]
  },
  {
   "cell_type": "code",
   "execution_count": 3,
   "id": "259cfa49",
   "metadata": {},
   "outputs": [],
   "source": [
    "def pca(dataMat, topNfeat = 9999999):\n",
    "    \"\"\"\n",
    "    函数说明：PCA算法实现\n",
    "    parameters:\n",
    "        dataMat -用于进行PCA操作的数据集\n",
    "        topNfeat -应用的N个特征\n",
    "    return:\n",
    "        lowDataMat -将维后的数据集\n",
    "        reconMat -重构的数据集\n",
    "\"\"\"\n",
    "    meanVals = mean(dataMat,axis=0)  # 按列求均值\n",
    "    meanRemoved = dataMat - meanVals             # 去平均值每个值减去该列的平均值（后面有解释为什么要去均值）\n",
    "    #计算协方差矩阵，除数n-1是为了得到协方差的无偏估计\n",
    "    #cov(X,0) = cov(X) 除数是n-1(n为样本个数)\n",
    "    #cov(X,1) 除数是n\n",
    "    covMat = cov(meanRemoved,rowvar=0)           # 协方差矩阵计算 （rowvar=0 后面有解释这个参数的重要意义）\n",
    "    eigVals,eigVects = linalg.eig(mat(covMat))   # 分解计算协方差矩阵的（特征值 特征向量）\n",
    "    eigValInd = argsort(eigVals)                 # 获取从小到大排序特征值的下标 于sort有差别\n",
    "    eigValInd = eigValInd[:-(topNfeat+1):-1]     # 获得最大的特征值的下标N个 (起始位置:结束位置:步长   步长为负则从右往左取；结束位置步长同时为负则从右排列向左排列)\n",
    "    redEigVects = eigVects[:,eigValInd]          # 保留N个特征值最大列的特征向量 (即数据方差最大的N个方向)\n",
    "    lowDDataMat = meanRemoved * redEigVects      # 将数据转换到新空间 （用特征向量*数据集）\n",
    "    reconMat = (lowDDataMat * redEigVects.T) + meanVals # 利用降维后的矩阵反构出原始矩阵（作用：用作测试，可以和未压缩的原矩阵比较）\n",
    "    return lowDDataMat,reconMat   # 压缩后的矩阵 反构出的原始矩阵"
   ]
  },
  {
   "cell_type": "code",
   "execution_count": 13,
   "id": "ee933b8e",
   "metadata": {},
   "outputs": [],
   "source": [
    "def drawDataSet(dataMat, reconMat):\n",
    "    \"\"\"\n",
    "    函数说明：绘制数据集\n",
    "    parameters:\n",
    "        dataMat -原始数据集\n",
    "        reconMat -重构数据集\n",
    "    return:\n",
    "        A picture\n",
    "    \"\"\"   \n",
    "    \n",
    "    # 画图\n",
    "    fig = plt.figure()\n",
    "    ax = fig.add_subplot(111)\n",
    "    ax.scatter(lowDMat[:,0].flatten().A[0],zeros(len(lowDMat)))   # 降维后的图\n",
    "#     ax.scatter(dataMat[:,0].flatten().A[0],dataMat[:,1].flatten().A[0],marker='^',s=90)\n",
    "#     ax.scatter(reconMat[:,0].flatten().A[0],reconMat[:,1].flatten().A[0],marker='o',s=50,c='red')\n",
    "    plt.show()"
   ]
  },
  {
   "cell_type": "code",
   "execution_count": 14,
   "id": "224f283c",
   "metadata": {},
   "outputs": [
    {
     "data": {
      "image/png": "[encoded data removed]",
      "text/plain": [
       "<Figure size 432x288 with 1 Axes>"
      ]
     },
     "metadata": {
      "needs_background": "light"
     },
     "output_type": "display_data"
    }
   ],
   "source": [
    "if __name__ =='__main__':\n",
    "    \n",
    "    \"\"\"\n",
    "    按照PCA原理来调用上述函数\n",
    "    \"\"\"\n",
    "    \n",
    "    dataMat = loadDataSet('PCAData.txt')\n",
    "    lowDMat,reconMat = pca(dataMat,1)    # 返回了 降维后的数据 反构出的原始数据\n",
    "    drawDataSet(dataMat, reconMat)"
   ]
  }
 ],
 "metadata": {
  "kernelspec": {
   "display_name": "Python [conda env:Jonas] *",
   "language": "python",
   "name": "conda-env-Jonas-py"
  },
  "language_info": {
   "codemirror_mode": {
    "name": "ipython",
    "version": 3
   },
   "file_extension": ".py",
   "mimetype": "text/x-python",
   "name": "python",
   "nbconvert_exporter": "python",
   "pygments_lexer": "ipython3",
   "version": "3.7.11"
  }
 },
 "nbformat": 4,
 "nbformat_minor": 5
}
