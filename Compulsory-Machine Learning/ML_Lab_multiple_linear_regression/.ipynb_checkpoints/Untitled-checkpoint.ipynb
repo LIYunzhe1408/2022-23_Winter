{
 "cells": [
  {
   "cell_type": "code",
   "execution_count": 6,
   "id": "48a1ce75",
   "metadata": {},
   "outputs": [
    {
     "name": "stderr",
     "output_type": "stream",
     "text": [
      "x multiple_linear_regression/\n",
      "x multiple_linear_regression/ex0.txt\n"
     ]
    }
   ],
   "source": [
    "!tar -zxvf multiple_linear_regression.tgz"
   ]
  },
  {
   "cell_type": "markdown",
   "id": "0fb86077",
   "metadata": {},
   "source": [
    "https://blog.csdn.net/weixin_46570668/article/details/112506263"
   ]
  },
  {
   "cell_type": "code",
   "execution_count": 67,
   "id": "a570889f",
   "metadata": {},
   "outputs": [
    {
     "name": "stdout",
     "output_type": "stream",
     "text": [
      "200\n"
     ]
    },
    {
     "data": {
      "image/png": "[encoded data removed]",
      "text/plain": [
       "<Figure size 432x288 with 1 Axes>"
      ]
     },
     "metadata": {
      "needs_background": "light"
     },
     "output_type": "display_data"
    }
   ],
   "source": [
    "import matplotlib.pyplot as plt\n",
    "import numpy as np\n",
    "\n",
    "def loadDataSet(filename):\n",
    "\n",
    "    \"\"\"\n",
    "    函数说明:加载数据\n",
    "    Parameters:\n",
    "        fileName - 文件名\n",
    "    Returns:\n",
    "        xArr - x数据集\n",
    "        yArr - y数据集\n",
    "    \"\"\"\n",
    "#     with open(\"./multiple_linear_regression/ex0.txt\") as f:\n",
    "#         dataset = f.read()\n",
    "        \n",
    "    xArr, yArr = [], []\n",
    "    for line in open(filename):\n",
    "        line = line.strip().split()\n",
    "        \n",
    "        # 这一步中加float非常重要！！！！\n",
    "        xArr.append([1.0, float(line[1])])\n",
    "        yArr.append(float(line[2]))\n",
    "    return xArr, yArr\n",
    "\n",
    "def plotDataSet():\n",
    "    \"\"\"\n",
    "    函数说明:绘制数据集\n",
    "    Parameters:\n",
    "        无\n",
    "    Returns:\n",
    "        无\n",
    "    \"\"\"\n",
    "    filename = \"./multiple_linear_regression/ex0.txt\"\n",
    "    xArr, yArr = loadDataSet(filename)\n",
    "    X = np.array(xArr)\n",
    "    Y = np.array(yArr)\n",
    "    amount = np.shape(X)[0]\n",
    "    print(amount)\n",
    "    x, y = [],[]\n",
    "    for i in range(amount):\n",
    "        x.append(X[i, 1])\n",
    "        y.append(Y[i])\n",
    "    \n",
    "    plt.scatter(x, y, s=10)\n",
    "    plt.xlabel(\"X\")\n",
    "    plt.ylabel(\"Y\")\n",
    "    plt.title(\"Dataset\")\n",
    "    plt.show()\n",
    "\n",
    "if __name__ == '__main__':\n",
    "    xArr, yArr = loadDataSet(\"./multiple_linear_regression/ex0.txt\")\n",
    "    plotDataSet()"
   ]
  },
  {
   "cell_type": "code",
   "execution_count": 71,
   "id": "a17c9c70",
   "metadata": {},
   "outputs": [
    {
     "data": {
      "image/png": "[encoded data removed]",
      "text/plain": [
       "<Figure size 432x288 with 1 Axes>"
      ]
     },
     "metadata": {
      "needs_background": "light"
     },
     "output_type": "display_data"
    }
   ],
   "source": [
    "from numpy import *\n",
    "import matplotlib.pyplot as plt\n",
    "\n",
    "def standRegres(xArr,yArr):\n",
    "    \"\"\"\n",
    "    计算最佳拟合直线\n",
    "    parameters:\n",
    "        xArr -给定的输入值\n",
    "        yArr -给定的输出值\n",
    "    return:\n",
    "        ws -回归系数\n",
    "    \"\"\"\n",
    "    xMat=mat(xArr)#转化为矩阵\n",
    "    yMat=mat(yArr).T#求转置\n",
    "    xTx=xMat.T*xMat\n",
    "    #判断是否行列式为0\n",
    "    if linalg.det(xTx) == 0.0:\n",
    "        print(\"This matrix is singular\")\n",
    "        return\n",
    "    #行列式不为0，可逆，根据公式计算回归系数\n",
    "    ws=xTx.I*(xMat.T*yMat)\n",
    "    return ws\n",
    "    \n",
    "\n",
    "def showLinerRegre():\n",
    "    \"\"\"\n",
    "    绘制最佳拟合直线\n",
    "    parameters:\n",
    "        null\n",
    "    return:\n",
    "        null\n",
    "    \"\"\"\n",
    "    xArr ,yArr = loadDataSet('multiple_linear_regression/ex0.txt') #加载数据集\n",
    "    ws = standRegres(xArr,yArr)         #得到回归系数\n",
    "    xMat=mat(xArr)\n",
    "    yMat=mat(yArr)\n",
    "    yHat=xMat*ws\n",
    "    plt.scatter(xMat[:,1].flatten().A[0],yMat.T[:,0].flatten().A[0])\n",
    "    xCopy=xMat.copy()\n",
    "    xCopy.sort(0)\n",
    "    yHat=xCopy*ws\n",
    "    plt.plot(xCopy[:,1],yHat)\n",
    "    plt.show()\n",
    "#     ...\n",
    "#     plt.show()\n",
    "    \n",
    "if __name__ =='__main__':\n",
    "    showLinerRegre()"
   ]
  },
  {
   "cell_type": "code",
   "execution_count": null,
   "id": "145d2250",
   "metadata": {},
   "outputs": [],
   "source": [
    "\n",
    "def lwlr(testPoint, xArr, yArr, k=1.0):\n",
    "    \"\"\"\n",
    "    计算回归系数\n",
    "    parameters:\n",
    "        testPoint -待预测数据\n",
    "        xArr -给定输入值\n",
    "        yArr -给定输出值\n",
    "        k -高斯核的k值，决定对附近的点赋予多大的权重\n",
    "    return:\n",
    "        testPoint * ws -回归系数的估计值\n",
    "    \"\"\"\n",
    "        #转为矩阵形式\n",
    "    xMat = mat(xArr); yMat = mat(yArr).T\n",
    "    #样本个数\n",
    "    m = shape(xMat)[0]\n",
    "    weights = mat(eye((m)))  #创建m*m的单位矩阵，作为初始化对角权重矩阵\n",
    "    for j in range(m):                             #遍历数据集计算每个样本的权重\n",
    "        #计算预测点与该样本的偏差\n",
    "        diffMat =testPoint-xMat[j, :]  \n",
    "        #根据偏差利用函数赋予该样本相应的权重\n",
    "        weights[j, j] = exp(diffMat * diffMat.T/(-2.0 * k**2))\n",
    "    #将权重矩阵应用到公式中\n",
    "    xTx = xMat.T * (weights * xMat)                   #m*m矩阵                     \n",
    "    #计算行列式值是否为0，即确定是否可逆\n",
    "    if linalg.det(xTx) == 0.0:\n",
    "        return\n",
    "    ws = xTx.I * (xMat.T * (weights * yMat))          #计算回归系数，m*1矩阵\n",
    "    #返回测试点的预测值\n",
    "    return testPoint*ws\n",
    "\n",
    "\n",
    "def lwlrTest(testArr, xArr, yArr,k=1.0):\n",
    "    \"\"\"\n",
    "    测试函数\n",
    "    parameters:\n",
    "        testArr -测试数据集\n",
    "        xArr -给定输入值\n",
    "        yArr -给定输出值\n",
    "        k -高斯核的k值\n",
    "    return:\n",
    "        yHat -预测值\n",
    "    \"\"\"\n",
    "    return yHat\n",
    "\n",
    "\n",
    "def plotlwlrRegression():\n",
    "    \"\"\"\n",
    "    绘制多条局部加权回归曲线\n",
    "    parameters:\n",
    "            无\n",
    "    returns:\n",
    "            无\n",
    "     \"\"\"\n",
    "    xArr, yArr = loadDataSet('multiple_linear_regression/ex0.txt')                                    #加载数据集\n",
    "    yHat_1 = lwlrTest(xArr, xArr, yArr, 1.0)                            #根据局部加权线性回归计算yHat\n",
    "    yHat_2 = lwlrTest(xArr, xArr, yArr, 0.01)                            #根据局部加权线性回归计算yHat\n",
    "    yHat_3 = lwlrTest(xArr, xArr, yArr, 0.003)                            #根据局部加权线性回归计算yHat\n",
    "    xMat = mat(xArr)                                                    #创建xMat矩阵\n",
    "    yMat = mat(yArr)                                                    #创建yMat矩阵\n",
    "    srtInd = xMat[:, 1].argsort(0)                                        #排序，返回索引值\n",
    "    xSort = xMat[srtInd][:,0,:]\n",
    "    fig, axs = plt.subplots(nrows=3, ncols=1,sharex=False, sharey=False, figsize=(10,8))                                        \n",
    "    axs[0].plot(xSort[:, 1], yHat_1[srtInd], c = 'red')                        #绘制回归曲线\n",
    "    axs[1].plot(xSort[:, 1], yHat_2[srtInd], c = 'red')                        #绘制回归曲线\n",
    "    axs[2].plot(xSort[:, 1], yHat_3[srtInd], c = 'red')                        #绘制回归曲线\n",
    "    axs[0].scatter(xMat[:,1].flatten().A[0], yMat.flatten().A[0], s = 20, c = 'green', alpha = .5)                #绘制样本点\n",
    "    axs[1].scatter(xMat[:,1].flatten().A[0], yMat.flatten().A[0], s = 20, c = 'green', alpha = .5)                #绘制样本点\n",
    "    axs[2].scatter(xMat[:,1].flatten().A[0], yMat.flatten().A[0], s = 20, c = 'green', alpha = .5)                #绘制样本点\n",
    "    #设置标题,x轴label,y轴label\n",
    "    axs0_title_text = axs[0].set_title(u'lwlr,k=1.0')\n",
    "    axs1_title_text = axs[1].set_title(u'lwlr,k=0.01')\n",
    "    axs2_title_text = axs[2].set_title(u'lwlr,k=0.003')\n",
    "    plt.setp(axs0_title_text, size=8, weight='bold', color='red')  \n",
    "    plt.setp(axs1_title_text, size=8, weight='bold', color='red')  \n",
    "    plt.setp(axs2_title_text, size=8, weight='bold', color='red')  \n",
    "    plt.xlabel('X')\n",
    "    plt.show()\n",
    "\n",
    "if __name__ == '__main__':\n",
    "    plotlwlrRegression()"
   ]
  },
  {
   "cell_type": "code",
   "execution_count": 1,
   "id": "d7bd2ac2",
   "metadata": {},
   "outputs": [
    {
     "ename": "NameError",
     "evalue": "name 'dataMat' is not defined",
     "output_type": "error",
     "traceback": [
      "\u001b[1;31m---------------------------------------------------------------------------\u001b[0m",
      "\u001b[1;31mNameError\u001b[0m                                 Traceback (most recent call last)",
      "\u001b[1;32m~\\AppData\\Local\\Temp\\ipykernel_13096\\3126982958.py\u001b[0m in \u001b[0;36m<module>\u001b[1;34m\u001b[0m\n\u001b[0;32m     19\u001b[0m \u001b[1;33m\u001b[0m\u001b[0m\n\u001b[0;32m     20\u001b[0m \u001b[1;32mif\u001b[0m \u001b[0m__name__\u001b[0m \u001b[1;33m==\u001b[0m\u001b[1;34m'__main__'\u001b[0m\u001b[1;33m:\u001b[0m\u001b[1;33m\u001b[0m\u001b[1;33m\u001b[0m\u001b[0m\n\u001b[1;32m---> 21\u001b[1;33m     \u001b[0mdataX\u001b[0m\u001b[1;33m,\u001b[0m \u001b[0mdataY\u001b[0m \u001b[1;33m=\u001b[0m\u001b[0mloadDataSet\u001b[0m\u001b[1;33m(\u001b[0m\u001b[1;34m'multiple_linear_regression/ex0.txt'\u001b[0m\u001b[1;33m)\u001b[0m\u001b[1;33m\u001b[0m\u001b[1;33m\u001b[0m\u001b[0m\n\u001b[0m\u001b[0;32m     22\u001b[0m     \u001b[0mmatX\u001b[0m\u001b[1;33m=\u001b[0m\u001b[0mmat\u001b[0m\u001b[1;33m(\u001b[0m\u001b[0mdataX\u001b[0m\u001b[1;33m)\u001b[0m\u001b[1;33m;\u001b[0m\u001b[0mmatY\u001b[0m\u001b[1;33m=\u001b[0m\u001b[0mmat\u001b[0m\u001b[1;33m(\u001b[0m\u001b[0mdataY\u001b[0m\u001b[1;33m)\u001b[0m\u001b[1;33m.\u001b[0m\u001b[0mT\u001b[0m \u001b[1;31m#将数据保存到矩阵中\u001b[0m\u001b[1;33m\u001b[0m\u001b[1;33m\u001b[0m\u001b[0m\n\u001b[0;32m     23\u001b[0m     \u001b[0mregr\u001b[0m \u001b[1;33m=\u001b[0m \u001b[0mxxx\u001b[0m\u001b[1;33m(\u001b[0m\u001b[1;33m)\u001b[0m  \u001b[1;31m#生成线性回归模型\u001b[0m\u001b[1;33m\u001b[0m\u001b[1;33m\u001b[0m\u001b[0m\n",
      "\u001b[1;32m~\\AppData\\Local\\Temp\\ipykernel_13096\\3126982958.py\u001b[0m in \u001b[0;36mloadDataSet\u001b[1;34m(fileName)\u001b[0m\n\u001b[0;32m     16\u001b[0m         \u001b[0mlabelMat\u001b[0m \u001b[1;33m-\u001b[0m\u001b[0m目标值向量\u001b[0m\u001b[1;33m\u001b[0m\u001b[1;33m\u001b[0m\u001b[0m\n\u001b[0;32m     17\u001b[0m     \"\"\"\n\u001b[1;32m---> 18\u001b[1;33m     \u001b[1;32mreturn\u001b[0m \u001b[0mdataMat\u001b[0m\u001b[1;33m,\u001b[0m\u001b[0mlabelMat\u001b[0m\u001b[1;33m\u001b[0m\u001b[1;33m\u001b[0m\u001b[0m\n\u001b[0m\u001b[0;32m     19\u001b[0m \u001b[1;33m\u001b[0m\u001b[0m\n\u001b[0;32m     20\u001b[0m \u001b[1;32mif\u001b[0m \u001b[0m__name__\u001b[0m \u001b[1;33m==\u001b[0m\u001b[1;34m'__main__'\u001b[0m\u001b[1;33m:\u001b[0m\u001b[1;33m\u001b[0m\u001b[1;33m\u001b[0m\u001b[0m\n",
      "\u001b[1;31mNameError\u001b[0m: name 'dataMat' is not defined"
     ]
    }
   ],
   "source": [
    "#!/usr/bin/env python\n",
    "#-*- coding:utf-8 -*-\n",
    "import matplotlib.pyplot as plt\n",
    "from numpy import *\n",
    "from sklearn import datasets, linear_model\n",
    "from sklearn.metrics import mean_squared_error, r2_score\n",
    "\n",
    "\n",
    "def loadDataSet(fileName):      \n",
    "    \"\"\"\n",
    "    打开一个用tab键分隔的文本文件\n",
    "    parameters:\n",
    "        fileName -文件名\n",
    "    return:\n",
    "        dataMat -数据矩阵\n",
    "        labelMat -目标值向量\n",
    "    \"\"\"\n",
    "    return dataMat,labelMat\n",
    "\n",
    "if __name__ =='__main__':\n",
    "    dataX, dataY =loadDataSet('multiple_linear_regression/ex0.txt')\n",
    "    matX=mat(dataX);matY=mat(dataY).T #将数据保存到矩阵中\n",
    "    regr = xxx()  #生成线性回归模型\n",
    "    #填充训练数据 matX(n_samples,n_features);matY(n_samples,n_targets)\n",
    "\n",
    "    xCopy = matX.copy()\n",
    "    xCopy.sort(0)\n",
    "    predictY = xxx(xCopy) #得到模型预测值\n",
    "\n",
    "    plt.scatter(matX[:,1].flatten().A[0],matY[:,0].flatten().A[0],s=20,color='green',alpha=.5) #绘制散点图\n",
    "    plt.plot(xCopy[:,1],predictY,color='red',linewidth=1) #绘制最佳拟合直线\n",
    " \n",
    "    plt.xticks(())\n",
    "    plt.yticks(())\n",
    "\n",
    "    plt.show()"
   ]
  }
 ],
 "metadata": {
  "kernelspec": {
   "display_name": "Python [conda env:Jonas] *",
   "language": "python",
   "name": "conda-env-Jonas-py"
  },
  "language_info": {
   "codemirror_mode": {
    "name": "ipython",
    "version": 3
   },
   "file_extension": ".py",
   "mimetype": "text/x-python",
   "name": "python",
   "nbconvert_exporter": "python",
   "pygments_lexer": "ipython3",
   "version": "3.7.11"
  }
 },
 "nbformat": 4,
 "nbformat_minor": 5
}
