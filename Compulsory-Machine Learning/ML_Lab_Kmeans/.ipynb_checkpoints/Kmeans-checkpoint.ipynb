{
 "cells": [
  {
   "cell_type": "code",
   "execution_count": 2,
   "id": "8044d5e8",
   "metadata": {},
   "outputs": [],
   "source": [
    "import numpy as np\n",
    "import matplotlib.pyplot as plt"
   ]
  },
  {
   "cell_type": "code",
   "execution_count": 11,
   "id": "38695f05",
   "metadata": {},
   "outputs": [
    {
     "data": {
      "text/plain": [
       "(80, 2)"
      ]
     },
     "execution_count": 11,
     "metadata": {},
     "output_type": "execute_result"
    }
   ],
   "source": [
    "import pandas as pd\n",
    "def loadDataSet(fileName):\n",
    "    \"\"\"\n",
    "    函数说明:加载数据集\n",
    "    parameters:\n",
    "        fileName - 文件名  \n",
    "    return：\n",
    "        DataMat - 数据集\n",
    "    \"\"\"\n",
    "    data = pd.read_table(\"./KmeansData.txt\", sep=\"\\t\", header=None)\n",
    "    data = np.array(data)\n",
    "#     print(data)\n",
    "    return data\n",
    "DataMat = loadDataSet(\"./KmeansData.txt\")\n",
    "DataMat.shape"
   ]
  },
  {
   "cell_type": "code",
   "execution_count": 5,
   "id": "4f5c00b5",
   "metadata": {},
   "outputs": [],
   "source": [
    "def distEclud(vecA, vecB):\n",
    "    \"\"\"\n",
    "    函数说明:利用欧式距离来计算每个样本点之间的距离\n",
    "    parameters:\n",
    "        vecA - A样本的特征向量（本数据中指它的二维坐标值）\n",
    "        vecB - B样本的特征向量（本数据中指它的二维坐标值）  \n",
    "    return：\n",
    "        Dist - 样本点间的欧式距离\n",
    "    \"\"\" \n",
    "    dist = np.sqrt(np.sum(vecA - vecB)**2)\n",
    "    return  dist"
   ]
  },
  {
   "cell_type": "code",
   "execution_count": 6,
   "id": "b4d1c27a",
   "metadata": {},
   "outputs": [
    {
     "name": "stdout",
     "output_type": "stream",
     "text": [
      "[[ 2.668759  1.594842]\n",
      " [ 0.939512 -4.023563]\n",
      " [ 2.329546  3.179764]]\n"
     ]
    }
   ],
   "source": [
    "import numpy as np\n",
    "def randCent(DataMat, k):\n",
    "    \"\"\"\n",
    "    函数说明:从当前样本点中随机选取k个初始簇中心\n",
    "    parameters:\n",
    "         DataMat - 数据集\n",
    "         k - 聚类后簇的数量\n",
    "    return：\n",
    "        centroids - 簇中心列表\n",
    "    \"\"\"    \n",
    "    num_examples = DataMat.shape[0]\n",
    "    random_index = np.random.permutation(num_examples)\n",
    "    centroids = DataMat[random_index[:k], :]\n",
    "    return centroids\n",
    "init_centroid = randCent(DataMat, 3)\n",
    "print(init_centroid)"
   ]
  },
  {
   "cell_type": "code",
   "execution_count": 31,
   "id": "cd3a585f",
   "metadata": {},
   "outputs": [],
   "source": [
    "def kMeans(dataSet, k, distMeas=distEclud, createCent=randCent):\n",
    "    \"\"\"\n",
    "    函数说明：K-均值算法\n",
    "    parameters:\n",
    "         dataSet -数据集\n",
    "         k -簇个数\n",
    "         distMeas -距离计算函数\n",
    "         createCent -创建初始质心函数\n",
    "    return：\n",
    "         centroids -质心列表\n",
    "         clusterAssment -簇分配结果矩阵\n",
    "    \"\"\"   \n",
    "    centroids = createCent(dataSet, k)\n",
    "    num_samples = dataSet.shape[0]\n",
    "    num_features = dataSet.shape[1]\n",
    "    max_iterations = 20\n",
    "    \n",
    "    for _ in range(max_iterations):\n",
    "        # 这一步很关键，要得到的是索引，也就是哪个点最近，而不想得到距离的值\n",
    "        closest_dist_id = np.zeros((num_samples, 1))\n",
    "        for sample_id in range(num_samples):\n",
    "            distance_to_centroid = np.zeros((k, 1))\n",
    "            for centroid_id in range(k):\n",
    "                distance_to_centroid[centroid_id] = distEclud(dataSet[sample_id], centroids[centroid_id])\n",
    "            # 注意，这里得到的是索引，所以要argmin!!!!!!不是min!!!!!!\n",
    "            closest_dist_id[sample_id] = np.argmin(distance_to_centroid)\n",
    "        \n",
    "        clusterAssment = closest_dist_id\n",
    "        # 更新中心点\n",
    "        for centroid_id in range(k):\n",
    "            closest_id = centroid_id == closest_dist_id\n",
    "#             print(\"Before update :\", centroids[centroid_id])\n",
    "#             print(\"Updated       :\", np.mean(dataSet[closest_id.flatten()], axis=0))\n",
    "            centroids[centroid_id] = np.mean(dataSet[closest_id.flatten()], axis=0)\n",
    "#         print(\"Results :\\n\", centroids)\n",
    "\n",
    "    return centroids, clusterAssment\n",
    "\n"
   ]
  },
  {
   "cell_type": "code",
   "execution_count": 8,
   "id": "e45931ec",
   "metadata": {},
   "outputs": [],
   "source": [
    "def drawDataSet(dataMat,centList,clusterAssment,k):\n",
    "    \"\"\"\n",
    "    函数说明：将聚类结果可视化\n",
    "    parameters：\n",
    "         centList -质心列表\n",
    "         clusterAssment -簇列表\n",
    "         dataMat -数据集\n",
    "         k -簇个数\n",
    "    return:\n",
    "         A picture\n",
    "\"\"\"\n",
    "    plt.plot(1, 2)\n",
    "    plt.show"
   ]
  },
  {
   "cell_type": "code",
   "execution_count": 48,
   "id": "4b74bd90",
   "metadata": {},
   "outputs": [
    {
     "data": {
      "image/png": "[encoded data removed]",
      "text/plain": [
       "<Figure size 432x288 with 1 Axes>"
      ]
     },
     "metadata": {
      "needs_background": "light"
     },
     "output_type": "display_data"
    }
   ],
   "source": [
    "if __name__ =='__main__':\n",
    "    \"\"\"\n",
    "    按照Kmeans原理来调用上述函数\n",
    "    \"\"\"\n",
    "#     plt.scatter(DataMat[:, 0], DataMat[:, 1])\n",
    "    centroids, clusterAssment = kMeans(DataMat, 3, distEclud, randCent)\n",
    "#     print(centroids)\n",
    "    plt.scatter(centroids[:, 0], centroids[:, 1], marker='x')\n",
    "\n",
    "    points_0 = DataMat[(clusterAssment == 0).flatten()]\n",
    "    points_1 = DataMat[(clusterAssment == 1).flatten()]\n",
    "    points_2 = DataMat[(clusterAssment == 2).flatten()]\n",
    "#     points_3 = DataMat[(clusterAssment == 3).flatten()]\n",
    "    plt.scatter(points_0[:, 0], points_0[:, 1])\n",
    "    plt.scatter(points_1[:, 0], points_1[:, 1])\n",
    "    plt.scatter(points_2[:, 0], points_2[:, 1])\n",
    "#     plt.scatter(points_3[:, 0], points_3[:, 1])\n",
    "    plt.show()"
   ]
  }
 ],
 "metadata": {
  "kernelspec": {
   "display_name": "Python [conda env:Jonas] *",
   "language": "python",
   "name": "conda-env-Jonas-py"
  },
  "language_info": {
   "codemirror_mode": {
    "name": "ipython",
    "version": 3
   },
   "file_extension": ".py",
   "mimetype": "text/x-python",
   "name": "python",
   "nbconvert_exporter": "python",
   "pygments_lexer": "ipython3",
   "version": "3.7.11"
  }
 },
 "nbformat": 4,
 "nbformat_minor": 5
}
