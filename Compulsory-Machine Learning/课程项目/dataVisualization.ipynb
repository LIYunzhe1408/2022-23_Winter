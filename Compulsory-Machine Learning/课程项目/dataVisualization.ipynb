{
 "cells": [
  {
   "cell_type": "code",
   "execution_count": 3,
   "id": "8c5c1d7c",
   "metadata": {},
   "outputs": [],
   "source": [
    "import matplotlib.pyplot as plt\n",
    "import seaborn as sns\n",
    "import cv2\n",
    "import os\n",
    "import numpy as np"
   ]
  },
  {
   "cell_type": "code",
   "execution_count": 4,
   "id": "a6856b40",
   "metadata": {},
   "outputs": [],
   "source": [
    "labels = ['1', '2','3']\n",
    "img_size = 150\n",
    "def get_training_data(data_dir):\n",
    "    data = [] \n",
    "    for label in labels: \n",
    "        path = os.path.join(data_dir, label)\n",
    "        class_num = labels.index(label)\n",
    "        for img in os.listdir(path):\n",
    "            try:\n",
    "                img_arr = cv2.imread(os.path.join(path, img), cv2.IMREAD_GRAYSCALE)\n",
    "                resized_arr = cv2.resize(img_arr, (img_size, img_size)) # Reshaping images to preferred size\n",
    "                data.append([resized_arr, class_num])\n",
    "            except Exception as e:\n",
    "                print(e)\n",
    "    return np.array(data)"
   ]
  },
  {
   "cell_type": "code",
   "execution_count": 5,
   "id": "a4859325",
   "metadata": {},
   "outputs": [
    {
     "name": "stderr",
     "output_type": "stream",
     "text": [
      "E:\\Anaconda\\envs\\Jonas\\lib\\site-packages\\ipykernel_launcher.py:15: VisibleDeprecationWarning: Creating an ndarray from ragged nested sequences (which is a list-or-tuple of lists-or-tuples-or ndarrays with different lengths or shapes) is deprecated. If you meant to do this, you must specify 'dtype=object' when creating the ndarray.\n",
      "  from ipykernel import kernelapp as app\n"
     ]
    }
   ],
   "source": [
    "train = get_training_data('./data_3/train')\n",
    "val = get_training_data('./data_3/valid')"
   ]
  },
  {
   "cell_type": "code",
   "execution_count": 6,
   "id": "031b8eab",
   "metadata": {},
   "outputs": [
    {
     "name": "stderr",
     "output_type": "stream",
     "text": [
      "E:\\Anaconda\\envs\\Jonas\\lib\\site-packages\\seaborn\\_decorators.py:43: FutureWarning: Pass the following variable as a keyword arg: x. From version 0.12, the only valid positional argument will be `data`, and passing other arguments without an explicit keyword will result in an error or misinterpretation.\n",
      "  FutureWarning\n"
     ]
    },
    {
     "data": {
      "text/plain": [
       "Text(0.5, 1.0, 'DataSet Statistic')"
      ]
     },
     "execution_count": 6,
     "metadata": {},
     "output_type": "execute_result"
    },
    {
     "data": {
      "image/png": "[encoded data removed]",
      "text/plain": [
       "<Figure size 432x288 with 1 Axes>"
      ]
     },
     "metadata": {},
     "output_type": "display_data"
    }
   ],
   "source": [
    "l = []\n",
    "cnt_b = 0\n",
    "cnt_N = 0\n",
    "cnt_V = 0\n",
    "for i in train:\n",
    "    if(i[1] == 0):\n",
    "        l.append(\"Bacteria\")\n",
    "        cnt_b += 1\n",
    "    elif(i[1] == 1):\n",
    "        l.append(\"Normal\")\n",
    "        cnt_N += 1\n",
    "    else:\n",
    "        l.append(\"Virus\")\n",
    "        cnt_V += 1\n",
    "for i in val:\n",
    "    if(i[1] == 0):\n",
    "        l.append(\"Bacteria\")\n",
    "        cnt_b += 1\n",
    "    elif(i[1] == 1):\n",
    "        l.append(\"Normal\")\n",
    "        cnt_N += 1\n",
    "    else:\n",
    "        l.append(\"Virus\")\n",
    "        cnt_V += 1\n",
    "sns.set_style('darkgrid')\n",
    "x = sns.countplot(l)\n",
    "x.set_title(\"DataSet Statistic\")"
   ]
  },
  {
   "cell_type": "code",
   "execution_count": 7,
   "id": "13ec2586",
   "metadata": {},
   "outputs": [
    {
     "data": {
      "text/plain": [
       "(2772, 1575, 1493)"
      ]
     },
     "execution_count": 7,
     "metadata": {},
     "output_type": "execute_result"
    }
   ],
   "source": [
    "cnt_b,cnt_N, cnt_V"
   ]
  },
  {
   "cell_type": "code",
   "execution_count": 10,
   "id": "6684acef",
   "metadata": {},
   "outputs": [
    {
     "name": "stderr",
     "output_type": "stream",
     "text": [
      "E:\\Anaconda\\envs\\Jonas\\lib\\site-packages\\seaborn\\_decorators.py:43: FutureWarning: Pass the following variable as a keyword arg: x. From version 0.12, the only valid positional argument will be `data`, and passing other arguments without an explicit keyword will result in an error or misinterpretation.\n",
      "  FutureWarning\n"
     ]
    },
    {
     "data": {
      "text/plain": [
       "Text(0.5, 1.0, 'DataSet Statistic')"
      ]
     },
     "execution_count": 10,
     "metadata": {},
     "output_type": "execute_result"
    },
    {
     "data": {
      "image/png": "[encoded data removed]",
      "text/plain": [
       "<Figure size 432x288 with 1 Axes>"
      ]
     },
     "metadata": {},
     "output_type": "display_data"
    }
   ],
   "source": [
    "x = []\n",
    "cnt_P = 0\n",
    "cnt_N = 0\n",
    "for i in train:\n",
    "    if(i[1] == 0):\n",
    "        x.append(\"Pneumonia\")\n",
    "        cnt_P += 1\n",
    "    elif(i[1] == 1):\n",
    "        x.append(\"Normal\")\n",
    "        cnt_N += 1\n",
    "    else:\n",
    "        x.append(\"Pneumonia\")\n",
    "        cnt_P += 1\n",
    "for i in val:\n",
    "    if(i[1] == 0):\n",
    "        x.append(\"Pneumonia\")\n",
    "        cnt_P += 1\n",
    "    elif(i[1] == 1):\n",
    "        x.append(\"Normal\")\n",
    "        cnt_N += 1\n",
    "    else:\n",
    "        x.append(\"Pneumonia\")\n",
    "        cnt_P += 1\n",
    "sns.set_style('darkgrid')\n",
    "x = sns.countplot(x)\n",
    "x.set_title(\"DataSet Statistic\")"
   ]
  },
  {
   "cell_type": "code",
   "execution_count": 11,
   "id": "6fa0b73d",
   "metadata": {},
   "outputs": [
    {
     "data": {
      "text/plain": [
       "(4265, 1575)"
      ]
     },
     "execution_count": 11,
     "metadata": {},
     "output_type": "execute_result"
    }
   ],
   "source": [
    "cnt_P, cnt_N"
   ]
  }
 ],
 "metadata": {
  "kernelspec": {
   "display_name": "Python [conda env:Jonas] *",
   "language": "python",
   "name": "conda-env-Jonas-py"
  },
  "language_info": {
   "codemirror_mode": {
    "name": "ipython",
    "version": 3
   },
   "file_extension": ".py",
   "mimetype": "text/x-python",
   "name": "python",
   "nbconvert_exporter": "python",
   "pygments_lexer": "ipython3",
   "version": "3.7.11"
  }
 },
 "nbformat": 4,
 "nbformat_minor": 5
}
